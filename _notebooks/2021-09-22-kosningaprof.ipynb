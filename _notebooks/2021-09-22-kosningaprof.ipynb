{
 "cells": [
  {
   "cell_type": "markdown",
   "id": "063e0fcd",
   "metadata": {},
   "source": [
    "# Kosningaprof\n",
    "> Exploration of the data from the kosningaprof\n",
    "\n",
    "- toc: true \n",
    "- badges: true\n",
    "- comments: false\n",
    "- categories: [election, data-science, machine-learning]"
   ]
  },
  {
   "cell_type": "markdown",
   "id": "0a6979e8",
   "metadata": {},
   "source": [
    "# Introduction\n",
    "\n",
    "The Icelandic parliament election is on the 25. September. Before every election, media outlets set up a quiz/questionnaire where candidates get statements such as *\"Iceland should be a part of NATO\"* and *\"The Icelandic government should put more money into the healthcare system\"* and the candidates answer if they agree/disagree with or are neutral towards the statement. Users can then answer the same questions and figure out which candidates and political parties they are \"closest to\" their political beliefs using the answers to the questions.\n",
    "\n",
    "These are mostly for fun and should only serve as an indicator, but it's an enjoyable process to go through and it's always interesting to see which candidates are \"most similar\" to oneself.\n",
    "\n",
    "As a whole this collection of data, candidates and their answers to a set of questions, is interesting and has a lot of opportunities for some data exploration and the purpose of this post is to take the data from the [RUV quiz](https://www.ruv.is/x21/kosningaprof) explore it and try to answer some questions about it.\n",
    "\n",
    "Similar (and definitely more rigorous) analysis has been done before by people designing the tests and actualluy working with the data, see for example this great thread [here](https://twitter.com/hafsteinneinars/status/1435268582053711881) on this [quiz](https://egkys.is/kosningavitinn/). Since this should not be taken too seriously, the analysis in this post will be more about generating plausible hypthes and doing some ad-hoc analysis."
   ]
  },
  {
   "cell_type": "markdown",
   "id": "bb611cb2",
   "metadata": {},
   "source": [
    "# The Data"
   ]
  },
  {
   "cell_type": "code",
   "execution_count": null,
   "id": "3fc59af5",
   "metadata": {
    "ExecuteTime": {
     "end_time": "2021-09-23T10:42:25.400165Z",
     "start_time": "2021-09-23T10:42:24.652483Z"
    },
    "scrolled": true
   },
   "outputs": [],
   "source": [
    "# hide\n",
    "import numpy as np\n",
    "import pandas as pd"
   ]
  },
  {
   "cell_type": "markdown",
   "id": "6f00499b",
   "metadata": {},
   "source": [
    "If you want to have the data for yourself, e.g. to run this notebook locally follow the instructions [here](https://github.com/roberttorfason/kosningaprof) to set up an environment and fetch the data."
   ]
  },
  {
   "cell_type": "markdown",
   "id": "6b24c23f",
   "metadata": {},
   "source": [
    "Let's load the data, pre-process it and set up some helper objects"
   ]
  },
  {
   "cell_type": "code",
   "execution_count": null,
   "id": "3b2f0a80",
   "metadata": {
    "ExecuteTime": {
     "end_time": "2021-09-23T21:39:36.119040Z",
     "start_time": "2021-09-23T21:39:36.105515Z"
    },
    "scrolled": true
   },
   "outputs": [],
   "source": [
    "df_results, df_questions = pd.read_csv(\"results_2021.csv\"), pd.read_csv(\"questions_2021.csv\")"
   ]
  },
  {
   "cell_type": "code",
   "execution_count": null,
   "id": "7078d448",
   "metadata": {
    "ExecuteTime": {
     "end_time": "2021-09-23T21:39:36.348009Z",
     "start_time": "2021-09-23T21:39:36.328706Z"
    }
   },
   "outputs": [],
   "source": [
    "# collapse-hide\n",
    "\n",
    "# Pre-processing\n",
    "df_results[\"party\"] = df_results[\"party\"].astype(\"category\")\n",
    "df_results[\"gender\"] = df_results[\"gender\"].astype(\"category\")\n",
    "\n",
    "# Bin the ages. `pd.cut` returns intervals that are annoying to work with so we just use the\n",
    "# left age of each bin e.g. 30 to represent the interval [30, 40)\n",
    "age_binned_series = pd.cut(df_results[\"age\"], bins=[-10, 0, 10, 20, 30, 40, 50, 60, 70, 80, 90, 100], right=False)\n",
    "df_results.insert(df_results.columns.get_loc(\"age\") + 1, \"age_binned\", age_binned_series)\n",
    "\n",
    "df_results[\"age_binned\"] = df_results[\"age_binned\"].map(lambda x: x.left).astype(int)\n",
    "\n",
    "# Most of the analysis centers around the political party so we drop the candiadates that don't have\n",
    "# a party specified\n",
    "df_results = df_results[~df_results[\"party\"].isna()]"
   ]
  },
  {
   "cell_type": "code",
   "execution_count": null,
   "id": "f0e973ea",
   "metadata": {
    "ExecuteTime": {
     "end_time": "2021-09-23T21:39:36.669619Z",
     "start_time": "2021-09-23T21:39:36.662643Z"
    }
   },
   "outputs": [],
   "source": [
    "# collapse-hide\n",
    "cols_questions = [c for c in df_results.columns if c.startswith(\"question_\")]\n",
    "cols_meta = [c for c in df_results.columns if c not in cols_questions]\n",
    "\n",
    "question_id_to_string = dict(zip(df_questions[\"question_number\"], df_questions[\"question\"]))"
   ]
  },
  {
   "cell_type": "markdown",
   "id": "58218c89",
   "metadata": {
    "ExecuteTime": {
     "end_time": "2021-09-23T21:34:59.961127Z",
     "start_time": "2021-09-23T21:34:59.951838Z"
    }
   },
   "source": [
    "and take a look at the structure"
   ]
  },
  {
   "cell_type": "code",
   "execution_count": null,
   "id": "bdd12080",
   "metadata": {
    "ExecuteTime": {
     "end_time": "2021-09-23T21:39:39.348105Z",
     "start_time": "2021-09-23T21:39:39.334115Z"
    }
   },
   "outputs": [],
   "source": [
    "df_questions.head(3)"
   ]
  },
  {
   "cell_type": "markdown",
   "id": "4b3ec73b",
   "metadata": {},
   "source": [
    "`df_questions` has all the questions and their ids/numbers."
   ]
  },
  {
   "cell_type": "code",
   "execution_count": null,
   "id": "dd0b3ba1",
   "metadata": {
    "ExecuteTime": {
     "end_time": "2021-09-23T21:39:42.773400Z",
     "start_time": "2021-09-23T21:39:42.745683Z"
    }
   },
   "outputs": [],
   "source": [
    "df_results.head(3)"
   ]
  },
  {
   "cell_type": "markdown",
   "id": "fd9b563a",
   "metadata": {},
   "source": [
    "`df_results` represents each candidate in a row, metadata (`age`, `party`, `name`) and the results for all the questions, where each answer is on the scale from 0-100."
   ]
  },
  {
   "cell_type": "code",
   "execution_count": null,
   "id": "baedd1d9",
   "metadata": {
    "ExecuteTime": {
     "end_time": "2021-09-23T21:39:43.706377Z",
     "start_time": "2021-09-23T21:39:43.701999Z"
    }
   },
   "outputs": [],
   "source": [
    "# collapse-hide\n",
    "\"\"\"\n",
    "This text is in a code cell because it's not possible to collapse markdown cells in fastpages\n",
    "\n",
    "Additionally each question in `df_results` has a mapping back to `df_questions` via the column name.\n",
    "Note that the way the questions are indexed there is an easy correspondance between the (numeric) index \n",
    "of each column and `df_questions`. This means that when we later transform the data to numpy arrays, \n",
    "where we don't have named columns, and do something like `x[:, 3]`, it will correspond to `df_questions.iloc[3]` \n",
    "so going back and forth between the data and the actual questions is easy.\n",
    "\"\"\";"
   ]
  },
  {
   "cell_type": "markdown",
   "id": "21b13d9a",
   "metadata": {
    "ExecuteTime": {
     "end_time": "2021-09-23T18:47:31.733824Z",
     "start_time": "2021-09-23T18:47:31.728468Z"
    }
   },
   "source": [
    "# Taking a closer look at the questions"
   ]
  },
  {
   "cell_type": "code",
   "execution_count": null,
   "id": "76e0e9b5",
   "metadata": {
    "ExecuteTime": {
     "end_time": "2021-09-23T19:32:15.533129Z",
     "start_time": "2021-09-23T19:32:15.529935Z"
    }
   },
   "outputs": [],
   "source": [
    "# hide\n",
    "import altair as alt"
   ]
  },
  {
   "cell_type": "markdown",
   "id": "36d385f3",
   "metadata": {},
   "source": [
    "Visualizing the histogram for each party shows "
   ]
  },
  {
   "cell_type": "code",
   "execution_count": null,
   "id": "c865e95e",
   "metadata": {
    "ExecuteTime": {
     "end_time": "2021-09-23T21:30:27.205858Z",
     "start_time": "2021-09-23T21:30:27.124623Z"
    }
   },
   "outputs": [],
   "source": [
    "# collapse-hide\n",
    "df_results_melt = pd.melt(df_results, id_vars=cols_meta, value_vars=cols_questions)\n",
    "df_results_melt = df_results_melt[[\"party\", \"variable\", \"value\"]]\n",
    "df_results_melt = df_results_melt.rename(columns={\"variable\": \"question\", \"value\": \"Answer Value\"})\n",
    "df_results_melt[\"question\"] = df_results_melt[\"question\"].replace(question_id_to_string)\n",
    "df_results_melt[\"question\"] = df_results_melt[\"question\"].astype(\"category\")"
   ]
  },
  {
   "cell_type": "code",
   "execution_count": null,
   "id": "f6704b76",
   "metadata": {
    "ExecuteTime": {
     "end_time": "2021-09-23T21:30:30.337775Z",
     "start_time": "2021-09-23T21:30:30.330498Z"
    }
   },
   "outputs": [],
   "source": [
    "df_questions_std = df_results_melt.groupby(\"question\").std().sort_values(\"Answer Value\", ascending=False)\n",
    "questions_sorted = df_questions_std.index.to_list()"
   ]
  },
  {
   "cell_type": "markdown",
   "id": "2f3377da",
   "metadata": {
    "ExecuteTime": {
     "end_time": "2021-09-23T21:32:34.304850Z",
     "start_time": "2021-09-23T21:32:34.295131Z"
    }
   },
   "source": [
    "This adds a linked superscript {% fn 15 %}\n",
    "\n",
    "{{ \"This is the actual footnote\" | fndetail: 15 }}"
   ]
  },
  {
   "cell_type": "code",
   "execution_count": null,
   "id": "fb08e4cd",
   "metadata": {
    "ExecuteTime": {
     "end_time": "2021-09-23T21:30:18.546416Z",
     "start_time": "2021-09-23T21:30:18.543565Z"
    }
   },
   "outputs": [],
   "source": [
    "# hide\n",
    "# Discussion on entropy vs variance?"
   ]
  },
  {
   "cell_type": "code",
   "execution_count": null,
   "id": "6d9d744c",
   "metadata": {
    "ExecuteTime": {
     "end_time": "2021-09-23T21:33:15.488680Z",
     "start_time": "2021-09-23T21:33:15.456960Z"
    }
   },
   "outputs": [],
   "source": [
    "df_results_melt.groupby([\"party\", \"question\"]).std().groupby(\"party\").mean().sort_values(\"Answer Value\", ascending=False).reset_index()"
   ]
  },
  {
   "cell_type": "code",
   "execution_count": null,
   "id": "107f2e37",
   "metadata": {
    "ExecuteTime": {
     "end_time": "2021-09-23T21:30:56.241084Z",
     "start_time": "2021-09-23T21:30:56.088454Z"
    }
   },
   "outputs": [],
   "source": [
    "# hide_input\n",
    "alt.data_transformers.disable_max_rows()\n",
    "\n",
    "parties_list = df_results_melt[\"party\"].cat.categories.to_list()\n",
    "questions_list = df_results_melt[\"question\"].cat.categories.to_list()\n",
    "\n",
    "# Highest and lowest entropy/variance parties\n",
    "chart = alt.Chart(df_results_melt).mark_bar().encode(\n",
    "    x=alt.X(f'Answer Value:Q', bin=alt.Bin(extent=[0, 100], step=10), scale=alt.Scale(domain=(0, 100))),\n",
    "    y=alt.Y('count()'),\n",
    "    color='party',\n",
    "    tooltip=['party', alt.Tooltip('count()', title='count')]\n",
    ").interactive()\n",
    "#chart.encoding.x.title = question_id_to_string[question_name]\n",
    "    \n",
    "# A dropdown filter\n",
    "question_dropdown = alt.binding_select(options=[None] + questions_sorted, labels=[\"All\"] + questions_sorted)\n",
    "question_select = alt.selection_single(fields=[\"question\"], bind=question_dropdown, name=\"Question\")\n",
    "\n",
    "chart_filter_question = chart.add_selection(\n",
    "    question_select\n",
    ").transform_filter(\n",
    "    question_select\n",
    ").properties(title=\"Question Result Histogram\")\n",
    " \n",
    "# A dropdown filter\n",
    "party_dropdown = alt.binding_select(options=[None] + parties_list, labels=[\"All\"] + parties_list)\n",
    "party_select = alt.selection_single(fields=[\"party\"], bind=party_dropdown, name=\"Party\")\n",
    "\n",
    "chart_filter_party = chart_filter_question.add_selection(\n",
    "    party_select\n",
    ").transform_filter(\n",
    "    party_select\n",
    ")\n",
    "\n",
    "\n",
    "chart_filter_party"
   ]
  },
  {
   "cell_type": "markdown",
   "id": "9482d109",
   "metadata": {
    "ExecuteTime": {
     "end_time": "2021-09-22T23:04:00.132451Z",
     "start_time": "2021-09-22T23:04:00.107644Z"
    }
   },
   "source": [
    "# Dimensionality reduction and embeddings"
   ]
  },
  {
   "cell_type": "code",
   "execution_count": null,
   "id": "0f424ec2",
   "metadata": {
    "ExecuteTime": {
     "end_time": "2021-09-23T18:49:33.805507Z",
     "start_time": "2021-09-23T18:49:33.143580Z"
    },
    "scrolled": true
   },
   "outputs": [],
   "source": [
    "from sklearn.decomposition import PCA, NMF"
   ]
  },
  {
   "cell_type": "markdown",
   "id": "358c916d",
   "metadata": {},
   "source": [
    "Let's pick out only the questions and transform the extracted questions to a numpy array to be used with `sklearn` and normalize them to be in the range [0, 1]"
   ]
  },
  {
   "cell_type": "code",
   "execution_count": null,
   "id": "14fdc63b",
   "metadata": {
    "ExecuteTime": {
     "end_time": "2021-09-23T20:05:34.170164Z",
     "start_time": "2021-09-23T20:05:34.162014Z"
    }
   },
   "outputs": [],
   "source": [
    "df_questions_only = df_results.filter(like=\"question_\")\n",
    "x = df_questions_only.to_numpy()\n",
    "x = x.astype(float) / 100\n",
    "x.shape"
   ]
  },
  {
   "cell_type": "code",
   "execution_count": null,
   "id": "0c7db0d5",
   "metadata": {
    "ExecuteTime": {
     "end_time": "2021-09-23T18:49:23.071861Z",
     "start_time": "2021-09-23T18:49:23.067036Z"
    }
   },
   "outputs": [],
   "source": [
    "# hide\n",
    "#clf_kernel = KernelPCA(n_components=10, kernel=\"cosine\")\n",
    "#x_pca_kernel = clf_kernel.fit_transform(x)"
   ]
  },
  {
   "cell_type": "code",
   "execution_count": null,
   "id": "4de29c74",
   "metadata": {
    "ExecuteTime": {
     "end_time": "2021-09-23T18:49:39.115560Z",
     "start_time": "2021-09-23T18:49:39.087541Z"
    },
    "scrolled": true
   },
   "outputs": [],
   "source": [
    "pca = PCA(n_components=10)\n",
    "x_pca = pca.fit_transform(x)"
   ]
  },
  {
   "cell_type": "code",
   "execution_count": null,
   "id": "947ccd95",
   "metadata": {
    "ExecuteTime": {
     "end_time": "2021-09-22T23:00:32.022075Z",
     "start_time": "2021-09-22T23:00:31.975209Z"
    },
    "scrolled": true
   },
   "outputs": [],
   "source": [
    "clf = PCA(n_components=10)\n",
    "y_val = \"party\"\n",
    "\n",
    "x_pca_questions = clf.fit_transform(x.T)\n",
    "x_pca_questions.shape\n",
    "clf.components_[0]  # Sum over parties\n",
    "for i, val in enumerate(df_users[y_val].cat.categories):\n",
    "    print(val)\n",
    "    print(np.sum(clf.components_[1][df_users[\"party\"].cat.codes.to_numpy() == i]))"
   ]
  },
  {
   "cell_type": "code",
   "execution_count": null,
   "id": "99d573d4",
   "metadata": {
    "ExecuteTime": {
     "end_time": "2021-09-22T23:00:36.271511Z",
     "start_time": "2021-09-22T23:00:36.171012Z"
    },
    "scrolled": true
   },
   "outputs": [],
   "source": [
    "df_pca_q = pd.DataFrame(x_pca_questions)\n",
    "df_pca_q.columns = df_pca_q.columns.astype(str)\n",
    "df_pca_q = pd.concat([df_questions, df_pca_q], axis=1)\n",
    "df_pca_q.head(5)"
   ]
  },
  {
   "cell_type": "markdown",
   "id": "d0cc4f4b",
   "metadata": {},
   "source": [
    "# Plot the questions (interactive dropdown)"
   ]
  },
  {
   "cell_type": "code",
   "execution_count": null,
   "id": "c495fce8",
   "metadata": {
    "ExecuteTime": {
     "end_time": "2021-09-23T10:17:24.736995Z",
     "start_time": "2021-09-23T10:17:24.730762Z"
    }
   },
   "outputs": [],
   "source": []
  },
  {
   "cell_type": "code",
   "execution_count": null,
   "id": "fe9a4a17",
   "metadata": {
    "ExecuteTime": {
     "end_time": "2021-09-22T23:01:04.789967Z",
     "start_time": "2021-09-22T23:01:04.486151Z"
    }
   },
   "outputs": [],
   "source": [
    "# Highest and lowest entropy/variance parties\n",
    "# Highest/lowest entropy questions\n",
    "# Think about interpretation of this. Correlation in users!\n",
    "for i in range(2):\n",
    "    #alt.Chart(df_users.drop(columns=[\"age_binned\"])).mark_bar().encode(\n",
    "    alt.Chart(df_users).mark_bar().encode(\n",
    "        x=alt.X(f'question_{i}:Q', bin=True),\n",
    "        y='count()',\n",
    "        color='party',\n",
    "        tooltip=['party']\n",
    "    ).interactive().display()"
   ]
  },
  {
   "cell_type": "code",
   "execution_count": null,
   "id": "52fce5c2",
   "metadata": {
    "ExecuteTime": {
     "end_time": "2021-09-22T23:05:03.637066Z",
     "start_time": "2021-09-22T23:05:03.460381Z"
    },
    "scrolled": true
   },
   "outputs": [],
   "source": [
    "# Think about interpretation of this. Correlation in users!\n",
    "alt.Chart(df_pca_q).mark_circle(size=60).encode(\n",
    "    x='0',\n",
    "    y='1',\n",
    "    #color='party',\n",
    "    tooltip=['question']\n",
    ").interactive()"
   ]
  },
  {
   "cell_type": "code",
   "execution_count": null,
   "id": "fbbf4a9c",
   "metadata": {
    "ExecuteTime": {
     "end_time": "2021-09-20T21:22:35.156490Z",
     "start_time": "2021-09-20T21:22:35.131097Z"
    },
    "scrolled": false
   },
   "outputs": [],
   "source": [
    "# Map back to questions\n",
    "#plt.figure()\n",
    "#plt.plot(clf.components_[0])\n",
    "#plt.plot(clf.components_[1])\n",
    "#plt.plot(clf.components_[2])\n",
    "#plt.plot(clf.components_[3])"
   ]
  },
  {
   "cell_type": "code",
   "execution_count": null,
   "id": "c63429d1",
   "metadata": {
    "ExecuteTime": {
     "end_time": "2021-09-20T21:22:35.773366Z",
     "start_time": "2021-09-20T21:22:35.625890Z"
    },
    "scrolled": true
   },
   "outputs": [],
   "source": [
    "from matplotlib import cm\n",
    "\n",
    "cmap = cm.get_cmap('hsv')\n",
    "cmap(100.1)"
   ]
  },
  {
   "cell_type": "code",
   "execution_count": null,
   "id": "28e1e8d5",
   "metadata": {
    "ExecuteTime": {
     "end_time": "2021-09-20T21:35:30.680920Z",
     "start_time": "2021-09-20T21:35:30.485030Z"
    },
    "scrolled": true
   },
   "outputs": [],
   "source": [
    "df_pca = pd.DataFrame(x_pca)\n",
    "df_pca.columns = df_pca.columns.astype(str)\n",
    "df_pca = pd.concat([df_users[cols_meta], df_pca], axis=1)\n",
    "df_pca = df_pca.drop(columns=[\"age_binned\"])\n",
    "df_pca.head(5)"
   ]
  },
  {
   "cell_type": "code",
   "execution_count": null,
   "id": "0a59f575",
   "metadata": {
    "ExecuteTime": {
     "end_time": "2021-09-20T21:39:49.776481Z",
     "start_time": "2021-09-20T21:39:49.439495Z"
    },
    "scrolled": true
   },
   "outputs": [],
   "source": [
    "alt.Chart(df_pca).mark_circle(size=60).encode(\n",
    "    x='0',\n",
    "    y='1',\n",
    "    color='party',\n",
    "    tooltip=['party', \"name\"]\n",
    ").interactive()"
   ]
  },
  {
   "cell_type": "code",
   "execution_count": null,
   "id": "f23e0784",
   "metadata": {
    "ExecuteTime": {
     "end_time": "2021-09-20T21:22:37.989764Z",
     "start_time": "2021-09-20T21:22:36.112041Z"
    },
    "scrolled": true
   },
   "outputs": [],
   "source": [
    "# Try other components than the first 2\n",
    "\n",
    "import matplotlib.pyplot as plt\n",
    "\n",
    "y_val = \"party\"\n",
    "y = df_users[y_val].cat.codes.to_numpy()\n",
    "\n",
    "plt.figure(figsize=(8, 8))\n",
    "for i, val in enumerate(df_users[y_val].cat.categories):\n",
    "    idx = i * 255 // len(df_users[y_val].cat.categories)\n",
    "    color = cmap(idx)\n",
    "    plt.scatter(x_pca[y == i, 0], x_pca[y == i, 1], label=val, color=color)\n",
    "    #plt.scatter(x_pca[y == i, 0], x_pca[y == i, 1], label=val)\n",
    "plt.legend()\n",
    "\n",
    "plt.figure(figsize=(8, 8))\n",
    "for i, val in enumerate(df_users[y_val].cat.categories):\n",
    "    idx = i * 255 // len(df_users[y_val].cat.categories)\n",
    "    color = cmap(idx)\n",
    "    plt.scatter(x_pca_kernel[y == i, 0], -x_pca_kernel[y == i, 1], label=val, color=color)\n",
    "plt.legend()"
   ]
  },
  {
   "cell_type": "code",
   "execution_count": null,
   "id": "6d0daca9",
   "metadata": {
    "ExecuteTime": {
     "end_time": "2021-09-20T21:22:41.686338Z",
     "start_time": "2021-09-20T21:22:41.662303Z"
    },
    "scrolled": true
   },
   "outputs": [],
   "source": [
    "df_users[\"party\"].cat.categories"
   ]
  },
  {
   "cell_type": "code",
   "execution_count": null,
   "id": "7687bfd0",
   "metadata": {
    "ExecuteTime": {
     "end_time": "2021-09-20T21:22:41.914666Z",
     "start_time": "2021-09-20T21:22:41.871744Z"
    },
    "scrolled": false
   },
   "outputs": [],
   "source": [
    "df_users[\"party\"].head(), df_users[\"party\"].cat.codes.head()"
   ]
  },
  {
   "cell_type": "code",
   "execution_count": null,
   "id": "547aeebb",
   "metadata": {
    "ExecuteTime": {
     "end_time": "2021-09-22T23:07:47.151542Z",
     "start_time": "2021-09-22T23:07:47.104987Z"
    },
    "scrolled": false
   },
   "outputs": [],
   "source": [
    "model = NMF(n_components=2, init='random', max_iter=400, alpha=0.5, l1_ratio=0.5)\n",
    "W = model.fit_transform(x)\n",
    "H = model.components_\n",
    "\n",
    "np.mean(np.abs(W @ H - x))\n",
    "\n",
    "# What users/questions is it hard to reconstruct?"
   ]
  },
  {
   "cell_type": "code",
   "execution_count": null,
   "id": "baa29596",
   "metadata": {
    "ExecuteTime": {
     "end_time": "2021-09-20T21:22:44.767991Z",
     "start_time": "2021-09-20T21:22:44.699393Z"
    },
    "scrolled": true
   },
   "outputs": [],
   "source": [
    "df_users[\"age_binned\"] = pd.cut(df_users[\"age\"], bins=[0, 10, 20, 30, 40, 50, 60, 70, 80, 90, 100])"
   ]
  },
  {
   "cell_type": "code",
   "execution_count": null,
   "id": "01d976d2",
   "metadata": {
    "ExecuteTime": {
     "end_time": "2021-09-20T21:22:45.275067Z",
     "start_time": "2021-09-20T21:22:45.253343Z"
    },
    "scrolled": true
   },
   "outputs": [],
   "source": [
    "df_users[\"age_binned\"].cat.codes  # needs gradual color scheme i.e. old is dark and young is a lighter shade of the same color"
   ]
  },
  {
   "cell_type": "code",
   "execution_count": null,
   "id": "2e56fa6e",
   "metadata": {
    "ExecuteTime": {
     "end_time": "2021-09-20T21:22:49.146484Z",
     "start_time": "2021-09-20T21:22:48.351461Z"
    },
    "scrolled": true
   },
   "outputs": [],
   "source": [
    "y_val = \"party\"\n",
    "y = df_users[y_val].cat.codes.to_numpy()\n",
    "\n",
    "plt.figure(figsize=(12, 12))\n",
    "for i, val in enumerate(df_users[y_val].cat.categories):\n",
    "    plt.scatter(W[y == i, 0], W[y == i, 1], label=val)\n",
    "plt.legend()"
   ]
  },
  {
   "cell_type": "markdown",
   "id": "b4d5bea4",
   "metadata": {},
   "source": [
    "- Classification to find the \"most important\" questions\n",
    "- Biggest outlier per party\n",
    "- Do any later components in PCA explain something else than party? E.g. age?"
   ]
  },
  {
   "cell_type": "code",
   "execution_count": null,
   "id": "8a3d5011",
   "metadata": {
    "ExecuteTime": {
     "end_time": "2021-09-22T23:07:22.350380Z",
     "start_time": "2021-09-22T23:07:22.304590Z"
    },
    "scrolled": false
   },
   "outputs": [],
   "source": [
    "# Need to see the questions, will answer what the latent factors mean?\n",
    "# I think the orthogonal direction means: Which questions do most people agree on\n",
    "plt.figure(figsize=(15, 15))\n",
    "for i in list(range(len(H.T)))[:10]:\n",
    "    plt.scatter(H.T[i, 0], H.T[i, 1], label=df_questions[\"question\"].iloc[i])\n",
    "plt.legend()\n",
    "\n",
    "# Áhugavert, Alþjóðaás vs. þjóðernisás? Heilbrigðisþjónusta í cluster"
   ]
  },
  {
   "cell_type": "code",
   "execution_count": null,
   "id": "43c845d4",
   "metadata": {
    "ExecuteTime": {
     "end_time": "2021-09-20T21:22:55.800166Z",
     "start_time": "2021-09-20T21:22:55.368315Z"
    },
    "scrolled": true
   },
   "outputs": [],
   "source": [
    "import altair as alt"
   ]
  },
  {
   "cell_type": "code",
   "execution_count": null,
   "id": "e5a903e1",
   "metadata": {
    "ExecuteTime": {
     "end_time": "2021-09-19T18:42:33.799906Z",
     "start_time": "2021-09-19T18:42:30.815403Z"
    },
    "scrolled": true
   },
   "outputs": [],
   "source": [
    "#!pip install vega_datasets"
   ]
  },
  {
   "cell_type": "code",
   "execution_count": null,
   "id": "051d0a53",
   "metadata": {
    "ExecuteTime": {
     "end_time": "2021-09-22T23:07:59.202254Z",
     "start_time": "2021-09-22T23:07:59.020904Z"
    },
    "scrolled": true
   },
   "outputs": [],
   "source": [
    "import altair as alt\n",
    "#from vega_datasets import data\n",
    "\n",
    "#source = data.cars()\n",
    "#source = pd.DataFrame({\"Component0\": H.T[:, 0], \"Component1\": H.T[:, 1]})\n",
    "source = pd.DataFrame({\"Component0\": W[:, 0], \"Component1\": W[:, 1], \"party\": df_users[\"party\"], \"name\": df_users[\"name\"]})\n",
    "\n",
    "alt.Chart(source).mark_circle(size=60).encode(\n",
    "    x='Component0',\n",
    "    y='Component1',\n",
    "    color='party',\n",
    "    tooltip=['party', \"name\"]\n",
    ").interactive()"
   ]
  },
  {
   "cell_type": "code",
   "execution_count": null,
   "id": "d18f1b8a",
   "metadata": {
    "ExecuteTime": {
     "end_time": "2021-09-19T19:06:26.828017Z",
     "start_time": "2021-09-19T19:06:26.755518Z"
    },
    "scrolled": false
   },
   "outputs": [],
   "source": []
  },
  {
   "cell_type": "code",
   "execution_count": null,
   "id": "395c65ab",
   "metadata": {
    "ExecuteTime": {
     "end_time": "2021-09-22T23:09:32.983801Z",
     "start_time": "2021-09-22T23:09:32.837159Z"
    },
    "scrolled": true
   },
   "outputs": [],
   "source": [
    "import altair as alt\n",
    "from vega_datasets import data\n",
    "\n",
    "# Passa að df_questions passi örugglega við H\n",
    "source = data.cars()\n",
    "source = pd.DataFrame({\"Component0\": H.T[:, 0], \"Component1\": H.T[:, 1], \"question\": df_questions[\"question\"], \"num\": range(len(H.T[:, 0]))})\n",
    "\n",
    "alt.Chart(source).mark_circle(size=60).encode(\n",
    "    x='Component0',\n",
    "    y='Component1',\n",
    "    #color='party',\n",
    "    tooltip=['question', 'num']\n",
    ").interactive()"
   ]
  },
  {
   "cell_type": "code",
   "execution_count": null,
   "id": "6432d0eb",
   "metadata": {
    "ExecuteTime": {
     "end_time": "2021-09-22T23:14:18.696248Z",
     "start_time": "2021-09-22T23:14:18.148042Z"
    }
   },
   "outputs": [],
   "source": [
    "# Diagonal means -> everyone agrees or not\n",
    "# Top  right: everyone agrees, botton left: no agreement\n",
    "\n",
    "\n",
    "for i in [11, 17, 2, 27]:\n",
    "    alt.Chart(df_users).mark_bar().encode(\n",
    "        x=alt.X(f'question_{i}:Q', bin=True),\n",
    "        y='count()',\n",
    "        color='party',\n",
    "        tooltip=['party']\n",
    "    ).interactive().display()"
   ]
  },
  {
   "cell_type": "markdown",
   "id": "33994a13",
   "metadata": {},
   "source": [
    "There is a constant that can be moved arbitrarily between the matrices. How about scaling users in [0, 1] and setting questions to [0, 100]?"
   ]
  },
  {
   "cell_type": "code",
   "execution_count": null,
   "id": "165402c1",
   "metadata": {
    "ExecuteTime": {
     "end_time": "2021-09-19T19:12:28.410980Z",
     "start_time": "2021-09-19T19:12:28.361401Z"
    },
    "scrolled": true
   },
   "outputs": [],
   "source": [
    "from sklearn.decomposition import FastICA\n",
    "\n",
    "\n",
    "\n",
    "transformer = FastICA(n_components=2)\n",
    "x_ica = transformer.fit_transform(x)"
   ]
  },
  {
   "cell_type": "code",
   "execution_count": null,
   "id": "95378434",
   "metadata": {
    "ExecuteTime": {
     "end_time": "2021-09-19T19:12:32.068602Z",
     "start_time": "2021-09-19T19:12:32.059908Z"
    },
    "scrolled": true
   },
   "outputs": [],
   "source": [
    "x_ica.shape"
   ]
  },
  {
   "cell_type": "code",
   "execution_count": null,
   "id": "19f8e5b4",
   "metadata": {
    "ExecuteTime": {
     "end_time": "2021-09-19T19:13:25.345168Z",
     "start_time": "2021-09-19T19:13:25.338419Z"
    },
    "scrolled": true
   },
   "outputs": [],
   "source": [
    "# Compare to the PCA components\n",
    "transformer.components_"
   ]
  },
  {
   "cell_type": "code",
   "execution_count": null,
   "id": "4f3ac0ff",
   "metadata": {
    "ExecuteTime": {
     "end_time": "2021-09-19T19:15:07.654309Z",
     "start_time": "2021-09-19T19:15:07.584017Z"
    },
    "scrolled": true
   },
   "outputs": [],
   "source": [
    "import altair as alt\n",
    "from vega_datasets import data\n",
    "\n",
    "# Passa að df_questions passi örugglega við H\n",
    "source = data.cars()\n",
    "source = pd.DataFrame({\"Component0\": x_ica[:, 0], \"Component1\": x_ica[:, 1], \"name\": df_users[\"name\"], \"party\": df_users[\"party\"]})\n",
    "\n",
    "alt.Chart(source).mark_circle(size=60).encode(\n",
    "    x='Component0',\n",
    "    y='Component1',\n",
    "    color='party',\n",
    "    tooltip=['name']\n",
    ").interactive()"
   ]
  },
  {
   "cell_type": "code",
   "execution_count": null,
   "id": "ed7d00e2",
   "metadata": {
    "scrolled": true
   },
   "outputs": [],
   "source": [
    "# Similarity to all in the "
   ]
  },
  {
   "cell_type": "markdown",
   "id": "79d5003b",
   "metadata": {},
   "source": [
    "Fill in NaNs using KNN. k closest users, take the mean and use that to fill in\n",
    "Matrix factorization is also interesting. Feature vector for questions not that interesting? Dno, probably also possible to calculate using correlation or implicit from the results of the PCA\n",
    "\n",
    "Hvaða spurning hefur mest predictive value fyrir\n",
    "- Aldur\n",
    "- Flokk\n",
    "- Kyn\n",
    "\n",
    "Vitum a-priori hvað targettin eru, hvaða clustering aðferð er best?\n",
    "\n",
    "\n",
    "\n",
    "Mean median of a question!"
   ]
  },
  {
   "cell_type": "markdown",
   "id": "c3f58197",
   "metadata": {},
   "source": [
    "Density of points to see conformity? How? Variance? Something else? Mean distance of everyone to everyone?"
   ]
  },
  {
   "cell_type": "markdown",
   "id": "15aa13ae",
   "metadata": {
    "ExecuteTime": {
     "end_time": "2021-09-20T11:00:49.908700Z",
     "start_time": "2021-09-20T11:00:49.896152Z"
    }
   },
   "source": [
    "Compare ranking based on metrics: Cosine, correlation, l2, l1"
   ]
  },
  {
   "cell_type": "code",
   "execution_count": null,
   "id": "fd61da64",
   "metadata": {
    "ExecuteTime": {
     "end_time": "2021-09-20T22:24:45.860850Z",
     "start_time": "2021-09-20T22:24:45.799264Z"
    },
    "scrolled": true
   },
   "outputs": [],
   "source": [
    "df_users.party.unique()"
   ]
  },
  {
   "cell_type": "code",
   "execution_count": null,
   "id": "cbd77d75",
   "metadata": {
    "ExecuteTime": {
     "end_time": "2021-09-20T22:34:37.650956Z",
     "start_time": "2021-09-20T22:34:37.584026Z"
    },
    "scrolled": true
   },
   "outputs": [],
   "source": [
    "df_users_filter = df_users[~df_users[\"party\"].isna()]\n",
    "df_users_filter = df_users_filter[df_users_filter[\"party\"] != \"Ábyrg Framtíð\"]\n",
    "\n",
    "print(df_users_filter.party.cat.categories)\n",
    "\n",
    "\n",
    "x = df_users_filter.filter(like=\"question_\").to_numpy()\n",
    "x = x.astype(float) / 100\n",
    "\n",
    "# Try gender\n",
    "y = df_users_filter[\"party\"].cat.codes.to_numpy()\n",
    "\n",
    "x.shape, y.shape"
   ]
  },
  {
   "cell_type": "code",
   "execution_count": null,
   "id": "6f70dd12",
   "metadata": {
    "ExecuteTime": {
     "end_time": "2021-09-20T22:34:12.914430Z",
     "start_time": "2021-09-20T22:34:12.894572Z"
    },
    "scrolled": true
   },
   "outputs": [],
   "source": [
    "from sklearn.ensemble import RandomForestClassifier\n",
    "\n",
    "clf = RandomForestClassifier()"
   ]
  },
  {
   "cell_type": "code",
   "execution_count": null,
   "id": "5367f923",
   "metadata": {
    "ExecuteTime": {
     "end_time": "2021-09-20T22:34:15.341909Z",
     "start_time": "2021-09-20T22:34:13.658185Z"
    },
    "scrolled": true
   },
   "outputs": [],
   "source": [
    "from sklearn.model_selection import cross_validate\n",
    "cv_results = cross_validate(clf, x, y, cv=5)\n",
    "cv_results"
   ]
  },
  {
   "cell_type": "code",
   "execution_count": null,
   "id": "cc6c3dac",
   "metadata": {
    "ExecuteTime": {
     "end_time": "2021-09-20T22:29:18.636960Z",
     "start_time": "2021-09-20T22:29:17.048805Z"
    },
    "scrolled": true
   },
   "outputs": [],
   "source": [
    "from sklearn.model_selection import KFold\n",
    "kf = KFold(n_splits=3, random_state=None, shuffle=True)\n",
    "train_index, test_index = next(kf.split(x))\n",
    "\n",
    "clf.fit(x[train_index, :], y[train_index])\n",
    "from sklearn.metrics import plot_confusion_matrix\n",
    "plot_confusion_matrix(clf, x[test_index, :], y[test_index], display_labels=df_users_filter[\"party\"].cat.categories.to_list()[:-1])\n",
    "\n",
    "\n",
    "len(test_index), len(train_index), df_users_filter[\"party\"].cat.categories\n",
    "# Who is confused?"
   ]
  },
  {
   "cell_type": "code",
   "execution_count": null,
   "id": "e31185ba",
   "metadata": {
    "ExecuteTime": {
     "end_time": "2021-09-20T22:18:28.882112Z",
     "start_time": "2021-09-20T22:18:28.872532Z"
    },
    "scrolled": true
   },
   "outputs": [],
   "source": [
    "np.unique(y[test_index], return_counts=True)"
   ]
  },
  {
   "cell_type": "code",
   "execution_count": null,
   "id": "7921085e",
   "metadata": {
    "ExecuteTime": {
     "end_time": "2021-09-20T22:20:26.597003Z",
     "start_time": "2021-09-20T22:20:26.566655Z"
    },
    "scrolled": true
   },
   "outputs": [],
   "source": [
    "df_users[\"party\"].isna().sum()\n",
    "\n",
    "clf.feature_importances_"
   ]
  },
  {
   "cell_type": "code",
   "execution_count": null,
   "id": "30191a75",
   "metadata": {
    "ExecuteTime": {
     "end_time": "2021-09-20T22:06:27.855995Z",
     "start_time": "2021-09-20T22:06:27.817293Z"
    },
    "scrolled": true
   },
   "outputs": [],
   "source": [
    "df_questions.iloc[7]"
   ]
  },
  {
   "cell_type": "markdown",
   "id": "ffc571eb",
   "metadata": {},
   "source": [
    "# Feature selection"
   ]
  },
  {
   "cell_type": "code",
   "execution_count": null,
   "id": "7eae1a7d",
   "metadata": {
    "ExecuteTime": {
     "end_time": "2021-09-20T22:32:23.050436Z",
     "start_time": "2021-09-20T22:32:23.043977Z"
    },
    "scrolled": true
   },
   "outputs": [],
   "source": [
    "from sklearn.feature_selection import f_classif, SelectKBest, chi2, mutual_info_classif"
   ]
  },
  {
   "cell_type": "code",
   "execution_count": null,
   "id": "8dd108b9",
   "metadata": {
    "ExecuteTime": {
     "end_time": "2021-09-20T22:31:37.124500Z",
     "start_time": "2021-09-20T22:31:37.074633Z"
    },
    "scrolled": true
   },
   "outputs": [],
   "source": [
    "chi2(x, y)"
   ]
  },
  {
   "cell_type": "code",
   "execution_count": null,
   "id": "d1b1666c",
   "metadata": {
    "ExecuteTime": {
     "end_time": "2021-09-20T22:32:46.473147Z",
     "start_time": "2021-09-20T22:32:45.724320Z"
    },
    "scrolled": true
   },
   "outputs": [],
   "source": [
    "top_vals = mutual_info_classif(x, y)"
   ]
  },
  {
   "cell_type": "code",
   "execution_count": null,
   "id": "a29334b7",
   "metadata": {
    "ExecuteTime": {
     "end_time": "2021-09-20T22:33:18.160896Z",
     "start_time": "2021-09-20T22:33:18.135579Z"
    },
    "scrolled": true
   },
   "outputs": [],
   "source": [
    "idx_sort = np.argsort(top_vals)[::-1]"
   ]
  },
  {
   "cell_type": "code",
   "execution_count": null,
   "id": "bb9d7109",
   "metadata": {
    "ExecuteTime": {
     "end_time": "2021-09-20T22:34:54.330303Z",
     "start_time": "2021-09-20T22:34:54.225453Z"
    },
    "scrolled": true
   },
   "outputs": [],
   "source": [
    "df_questions.iloc[idx_sort,:][\"question\"].to_list()"
   ]
  },
  {
   "cell_type": "code",
   "execution_count": null,
   "id": "69937728",
   "metadata": {
    "ExecuteTime": {
     "end_time": "2021-09-21T10:41:02.276997Z",
     "start_time": "2021-09-21T10:41:01.932650Z"
    },
    "scrolled": true
   },
   "outputs": [],
   "source": [
    "\n",
    "from sklearn.metrics import pairwise_distances\n",
    "\n",
    "dist_mat = pairwise_distances(x, metric=\"cosine\")\n",
    "\n",
    "dist_mat\n",
    "\n",
    "\n",
    "for m in [\"cosine\", \"l2\", \"l1\"]:\n",
    "    dist_mat = pairwise_distances(x[100:101, :], x, metric=m).ravel()\n",
    "\n",
    "    idx_sort = np.argsort(dist_mat)\n",
    "    print(m)\n",
    "    print(idx_sort[:10])\n",
    "    print(dist_mat[idx_sort[:10]])\n",
    "\n",
    "plt.figure()\n",
    "plt.plot(x[100])\n",
    "plt.plot(x[25])\n",
    "plt.plot(x[5])\n",
    "\n",
    "dist_mat\n",
    "\n",
    "dist_mat = pairwise_distances(x, metric=\"cosine\")\n",
    "dist_mat\n",
    "\n",
    "def _party_idx():\n",
    "    \"\"\"Maps the name of the party to indices\"\"\"\n",
    "    ...\n",
    "\n",
    "for i, val in enumerate(df_users_filter[\"party\"].cat.categories):\n",
    "    dist_mat_party = dist_mat[y == i, :][:, y == i]\n",
    "    print(val)\n",
    "    print(np.mean(dist_mat_party))\n",
    "\n",
    "dist_mat_party += np.diag(10000 * np.ones(dist_mat_party.shape[0]))\n",
    "np.argmax(np.min(dist_mat_party, axis=0))\n",
    "\n",
    "df_users_filter.loc[y == 5].iloc[28]"
   ]
  },
  {
   "cell_type": "markdown",
   "id": "7fb14cbd",
   "metadata": {
    "ExecuteTime": {
     "end_time": "2021-09-23T10:13:34.429332Z",
     "start_time": "2021-09-23T10:13:34.425393Z"
    }
   },
   "source": [
    "# Thoughts"
   ]
  },
  {
   "cell_type": "markdown",
   "id": "67715187",
   "metadata": {},
   "source": [
    "Skoða aldur, kyn, flokk sem target\n",
    "\n",
    "Þetta eru ekki gögn í evklíðsku rúmi, nota KernelPCA með cosine eða jafnvel mutual information? Eða cross entropy\n",
    "\n",
    "\n",
    "Motivating dæmi fyrir cosine, einn er hlédrægur og kýs alltaf nálægt miðjunni, annar lýs alltaf langt frá. Hlédrægi mun samt vera nær einhverjum sem er hlédrægur í hina stefnuna. Mælir meira hlédrægni vs. ákveðni?\n",
    "\n",
    "Fill in NaNs using KNN. k closest users, take the mean and use that to fill in\n",
    "Matrix factorization is also interesting. Feature vector for questions not that interesting? Dno, probably also possible to calculate using correlation or implicit from the results of the PCA\n",
    "\n",
    "Hvaða spurning hefur mest predictive value fyrir\n",
    "- Aldur\n",
    "- Flokk\n",
    "- Kyn\n",
    "\n",
    "Vitum a-priori hvað targettin eru, hvaða clustering aðferð er best?"
   ]
  },
  {
   "cell_type": "code",
   "execution_count": null,
   "id": "dc123fbe",
   "metadata": {
    "ExecuteTime": {
     "end_time": "2021-09-23T10:14:12.418834Z",
     "start_time": "2021-09-23T10:14:08.690545Z"
    }
   },
   "outputs": [],
   "source": [
    "import umap\n",
    "import umap.plot\n",
    "from sklearn.datasets import load_digits\n",
    "from itertools import product\n",
    "\n",
    "digits = load_digits()\n",
    "\n",
    "for n_neighbours, dist in product([5, 15, 30], [0.05, 0.1, 0.3]):\n",
    "    mapper = umap.UMAP(n_neighbors=n_neighbours).fit(x)\n",
    "    umap.plot.points(mapper, labels=y)"
   ]
  },
  {
   "cell_type": "code",
   "execution_count": null,
   "id": "923e9e41",
   "metadata": {},
   "outputs": [],
   "source": [
    "df_results.isna().sum()"
   ]
  }
 ],
 "metadata": {
  "kernelspec": {
   "display_name": "Python 3 (ipykernel)",
   "language": "python",
   "name": "python3"
  },
  "language_info": {
   "codemirror_mode": {
    "name": "ipython",
    "version": 3
   },
   "file_extension": ".py",
   "mimetype": "text/x-python",
   "name": "python",
   "nbconvert_exporter": "python",
   "pygments_lexer": "ipython3",
   "version": "3.8.11"
  }
 },
 "nbformat": 4,
 "nbformat_minor": 5
}
